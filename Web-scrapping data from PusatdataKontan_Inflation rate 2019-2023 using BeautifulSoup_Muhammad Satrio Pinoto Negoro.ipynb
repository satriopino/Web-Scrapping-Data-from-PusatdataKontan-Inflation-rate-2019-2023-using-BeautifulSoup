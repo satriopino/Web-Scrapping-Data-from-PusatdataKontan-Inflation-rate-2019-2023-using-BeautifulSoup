{
 "cells": [
  {
   "cell_type": "markdown",
   "metadata": {},
   "source": [
    "### Muhammad Satrio Pinoto Negoro\n",
    "\n",
    "**Linkedin:** https://www.linkedin.com/in/satriopino/"
   ]
  },
  {
   "cell_type": "markdown",
   "metadata": {},
   "source": [
    "# Webscrapping using BeautifulSoup\n",
    "\n",
    "Web scraping, also known as web harvesting or web data extraction, is the process of automatically extracting data from websites. It involves fetching a web page and extracting data from it. The data can be parsed, searched, reformatted, and copied into a spreadsheet or loaded into a database. Web scraping can be done manually, but in most cases, automated tools are preferred as they can be less costly and work at a faster rate. Web scraping is used for various purposes, including lead  generation, price monitoring, market research, and content aggregation. However, some websites use methods to prevent web scraping, such as detecting and disallowing bots from crawling their pages. In response, there are web scraping systems that rely on using techniques in DOM parsing, computer vision, and natural language processing to simulate human browsing to enable gathering web page content for offline parsing\n",
    "\n",
    "## Dependencies\n",
    "\n",
    "Actually to follow this module you only need to install beautifulsoup4 with `pip install beautifulsoup4` and you are good to go. But here some libraries that needed to be installed first that I use at bis module : \n",
    "\n",
    "- beautifulSoup4\n",
    "- pandas\n",
    "- matplotlibs\n",
    "\n",
    "## Background\n",
    "\n",
    "At this project we try to scrap Inflation rate data from https://pusatdata.kontan.co.id/ data center website. \"https://pusatdata.kontan.co.id/\" is a financial and market data portal that provides access to various financial data, market analysis, and related information. The website offers up-to-date news, data, and analysis on various topics such as investments, national and international markets, finance, and economics. It also provides information on interest rates, exchange rates, and stock prices. The website appears to be a reliable source of financial and market data for investors, traders, and anyone interested in financial news and analysis. We will try to scrap this sites for educational purpose only.\n",
    "\n",
    "A lot of you might ask why we need to scrap this data from the sites while it already have a good enough visualisation. Let's say we have task to make a forecast on Inflation rate. To do that we need to have the data, and scrapping is a good way to collect the data we don't have from public. \n",
    "\n",
    "We will scrap 5 points from this sites. That is Date, Inflation value MoM, and Inflation value YoY. \n",
    "\n",
    "## What is BeautifulSoup\n",
    "\n",
    "Beautiful Soup is a Python library for pulling data out of HTML and XML files. Beautiful Soup 3 only works on Python 2.x, but Beautiful Soup 4 also works on Python 3.x. Beautiful Soup 4 is faster, has more features, and works with third-party parsers\n",
    "like lxml and html5lib.\n",
    "\n",
    "Since beautifulsoup used to pull the data out of a HTML, so first we need to pull out the html first. How we do it? We will use default library `request`. \n",
    "\n",
    "So all this code is doing is sending a GET request to spesific address we give. This is the same type of request your browser sent to view this page, but the only difference is that Requests can't actually render the HTML, so instead you will just get the raw HTML and the other response information.\n",
    "\n",
    "We're using the .get() function here, but Requests allows you to use other functions like .post() and .put() to send those requests as well. At this case we will going to the Kontan data center Inflation rate page, you can click [here](https://pusatdata.kontan.co.id/makroekonomi/inflasi) to follow what exactly that link goes to. \n",
    "\n",
    "## Requesting the Data and Creating a BeautifulSoup\n",
    "\n",
    "Let's begin with requesting the web from the site with `get` method."
   ]
  },
  {
   "cell_type": "markdown",
   "metadata": {},
   "source": [
    "## Getting the HTML from the Webpage"
   ]
  },
  {
   "cell_type": "code",
   "execution_count": 1,
   "metadata": {},
   "outputs": [],
   "source": [
    "url = 'https://pusatdata.kontan.co.id/makroekonomi/inflasi'"
   ]
  },
  {
   "cell_type": "code",
   "execution_count": 2,
   "metadata": {},
   "outputs": [],
   "source": [
    "import requests"
   ]
  },
  {
   "cell_type": "code",
   "execution_count": 3,
   "metadata": {
    "ExecuteTime": {
     "end_time": "2020-01-13T05:12:23.275508Z",
     "start_time": "2020-01-13T05:12:20.009898Z"
    }
   },
   "outputs": [],
   "source": [
    "url_get = requests.get(url)"
   ]
  },
  {
   "cell_type": "markdown",
   "metadata": {},
   "source": [
    "To visualize what exactly you get from the `request.get`, we can use .content so ee what we exactly get, in here i slice it so it won't make our screen full of the html we get from the page. You can delete the slicing if you want to see what we fully get."
   ]
  },
  {
   "cell_type": "code",
   "execution_count": 5,
   "metadata": {
    "ExecuteTime": {
     "end_time": "2020-01-13T05:12:23.290648Z",
     "start_time": "2020-01-13T05:12:23.277650Z"
    }
   },
   "outputs": [
    {
     "data": {
      "text/plain": [
       "b'<!DOCTYPE html PUBLIC \"-//W3C//DTD XHTML 1.0 Transitional//EN\" \"http://www.w3.org/TR/xhtml1/DTD/xhtml1-transitional.dtd\">\\n<html xmlns=\"http://www.w3.org/1999/xhtml\">\\n<head>\\n\\t<meta http-equiv=\"Content-Type\" content=\"text/html; charset=utf-8\" />\\n\\t<meta name=\"viewport\" content=\"width=device-width, initial-scale=1.0\">\\n    <link rel=\"shortcut icon\" href=\"//assets.kontan.co.id/favicon.ico\"/>\\n\\t<link rel=\"stylesheet\" href=\"//assets.kontan.co.id/debar/pusatdata/css/font-awesome/css/font-awesome.min.css\">'"
      ]
     },
     "execution_count": 5,
     "metadata": {},
     "output_type": "execute_result"
    }
   ],
   "source": [
    "url_get.content[:500]"
   ]
  },
  {
   "cell_type": "markdown",
   "metadata": {},
   "source": [
    "As we can see we get a very unstructured and complex html, which actually contains the codes needed to show the webpages on your web browser. But we as human still confused what and where we can use that piece of code, so here where we use the beautifulsoup. Beautiful soup class will result a beautifulsoup object. Beautiful Soup transforms a complex HTML document into a complex tree of Python objects. But we’ll only ever have to deal with about four kinds of objects: `Tag`, `NavigableString`, `BeautifulSoup`, and `Comment`. But at this project we will only use `BeautifulSoup`.\n",
    "\n",
    "Let's make Beautiful soup object and feel free to explore the object here."
   ]
  },
  {
   "cell_type": "code",
   "execution_count": 6,
   "metadata": {
    "ExecuteTime": {
     "end_time": "2020-01-13T05:12:23.808122Z",
     "start_time": "2020-01-13T05:12:23.292610Z"
    }
   },
   "outputs": [
    {
     "name": "stdout",
     "output_type": "stream",
     "text": [
      "<class 'bs4.BeautifulSoup'>\n"
     ]
    }
   ],
   "source": [
    "from bs4 import BeautifulSoup \n",
    "\n",
    "soup = BeautifulSoup(url_get.content,\"html.parser\")\n",
    "print(type(soup))"
   ]
  },
  {
   "cell_type": "markdown",
   "metadata": {},
   "source": [
    "Let's see how our beautifulsoup looks like. As you can see, the content is the same with our get_url object but it's tidier. Also beautifulsoup give us method to make it even more prettier, for tidyness purpouse we slice to only see first 500 character."
   ]
  },
  {
   "cell_type": "code",
   "execution_count": 8,
   "metadata": {},
   "outputs": [
    {
     "name": "stdout",
     "output_type": "stream",
     "text": [
      "<!DOCTYPE html PUBLIC \"-//W3C//DTD XHTML 1.0 Transitional//EN\" \"http://www.w3.org/TR/xhtml1/DTD/xhtml1-transitional.dtd\">\n",
      "<html xmlns=\"http://www.w3.org/1999/xhtml\">\n",
      " <head>\n",
      "  <meta content=\"text/html; charset=utf-8\" http-equiv=\"Content-Type\"/>\n",
      "  <meta content=\"width=device-width, initial-scale=1.0\" name=\"viewport\"/>\n",
      "  <link href=\"//assets.kontan.co.id/favicon.ico\" rel=\"shortcut icon\"/>\n",
      "  <link href=\"//assets.kontan.co.id/debar/pusatdata/css/font-awesome/css/font-awesome.min.css\" rel=\"stylesheet\n"
     ]
    }
   ],
   "source": [
    "print(soup.prettify()[:500])"
   ]
  },
  {
   "cell_type": "markdown",
   "metadata": {},
   "source": [
    "### Getting right key to extract right information\n",
    "\n",
    "Now we already have a tidier html, now we should search the lines that we want to use. Let's back to our web page first.\n",
    "\n",
    "<img src=\"asset/webpusatdatakontan.png\">\n",
    "\n",
    "The information that we need are the Date, Inflation value MoM, and Inflation value YoY which contain in the table. To know which part of the code refer to that table, we can just move our cusor there, right click, and inspect element. Then we will see something like this.\n",
    "\n",
    "<img src=\"asset/tableinflation.png\">\n",
    "\n",
    "From inspect element we know that we need to find the line table with class `baris-scroll`. We can use the find method at our beautifusoup object. Let's also call our object to see what we get."
   ]
  },
  {
   "cell_type": "markdown",
   "metadata": {},
   "source": [
    "## Finding the right key to scrap the data & Extracting the right information"
   ]
  },
  {
   "cell_type": "markdown",
   "metadata": {},
   "source": [
    "Find the key and put the key into the `.find()` Put all the exploring the right key at this cell. (please change this markdown with your explanation)"
   ]
  },
  {
   "cell_type": "code",
   "execution_count": 10,
   "metadata": {
    "ExecuteTime": {
     "end_time": "2020-01-13T05:12:23.878904Z",
     "start_time": "2020-01-13T05:12:23.854974Z"
    }
   },
   "outputs": [
    {
     "name": "stdout",
     "output_type": "stream",
     "text": [
      "<div class=\"baris-scroll\">\n",
      " <div class=\"tabel-body\">\n",
      "  <div class=\"kol-konten3-1\">\n",
      "   31/10/2023\n",
      "  </div>\n",
      "  <div class=\"kol-konten3-2\">\n",
      "   <div class=\"w-30-px txtright center-max\">\n",
      "    0,17\n",
      "   </div>\n",
      "  </div>\n",
      "  <div class=\"kol-konten3-3\">\n",
      "   <div class=\"w-30-px txtright center-max\">\n",
      "    2,56\n",
      "   </div>\n",
      "  </div>\n",
      " </div>\n",
      " <div class=\"tabel-body\">\n",
      "  <div class=\"kol-konten3-1\">\n",
      "   30/09/2023\n",
      "  </div>\n",
      "  <div class=\"kol-konten3-2\">\n",
      "   <div class=\"w-30-px txtright center-max\">\n",
      "    0,19\n",
      "   </div>\n",
      "  </div\n"
     ]
    }
   ],
   "source": [
    "table = soup.find(\"div\", attrs={'class':'baris-scroll'})\n",
    "print(table.prettify()[:500])"
   ]
  },
  {
   "cell_type": "markdown",
   "metadata": {},
   "source": [
    "As we can see from the line we just extract, we get all the content we needed. As for what is table, The `div` tag defines a division or a section in an HTML document. It is easily styled by using the class or id attribute, Any sort of content can be put inside the `div` tag. \n",
    "    \n",
    "The `find()` function can help you to get you the part of the html code that you needed. While most of the html is contained in `div` you can differsiate them with help of `attrs=`, you can insert anything that in the `div` a the attrs to help you find the part you needed. \n",
    "\n",
    "Now, we need to get 5 information, that is the Date, Inflation value MoM, and Inflation value YoY. Which you can read from above code, Date is contained within `div` with \"kol-konten3-1\", Inflation value MoM is contained within `div` in \"kol-konten3-2\", and Inflation value YoY is contained within `div` in \"kol-konten3-3\" sequentially and repeatedly. \n",
    "    \n",
    "Now I will introduce you to other useful function from beautiful soup, that's `find_all`. While the `find` fuction method is used for finding out the **first tag** with the specified name or id and returning an object of type bs4. The find_all method is used for finding out **all tags** with the specified tag name or id and returning them as a list of type bs4.\n",
    "\n",
    "For example I'll try to extract the data of date information from the html. You can use slicer to help you."
   ]
  },
  {
   "cell_type": "code",
   "execution_count": 11,
   "metadata": {},
   "outputs": [
    {
     "data": {
      "text/plain": [
       "[<div class=\"kol-konten3-1\">31/10/2023</div>,\n",
       " <div class=\"kol-konten3-1\">30/09/2023</div>,\n",
       " <div class=\"kol-konten3-1\">31/08/2023</div>,\n",
       " <div class=\"kol-konten3-1\">31/07/2023</div>,\n",
       " <div class=\"kol-konten3-1\">30/06/2023</div>]"
      ]
     },
     "execution_count": 11,
     "metadata": {},
     "output_type": "execute_result"
    }
   ],
   "source": [
    "table.find_all('div', attrs={'class':'kol-konten3-1'})[:5]"
   ]
  },
  {
   "cell_type": "code",
   "execution_count": 12,
   "metadata": {},
   "outputs": [
    {
     "data": {
      "text/plain": [
       "'31/10/2023'"
      ]
     },
     "execution_count": 12,
     "metadata": {},
     "output_type": "execute_result"
    }
   ],
   "source": [
    "table.find_all('div', attrs={'class':'kol-konten3-1'})[0].text"
   ]
  },
  {
   "cell_type": "markdown",
   "metadata": {},
   "source": [
    "As you can see get already get the necessary key to extract all needed data. To get the only text information you can add `.text`. Remember you need to only get one information before you use `.text` otherwise it will return error."
   ]
  },
  {
   "cell_type": "markdown",
   "metadata": {},
   "source": [
    "### Extracting the Information\n",
    "\n",
    "Now all the `beautiful soup` part is over. All left to do is doing some programming to extract all the data automaticly, you can do this manualy at this part but if your data too long I advice you use loop. I'll show you how to make looping for extracting the data, but before that let's check how long is our data to help our looping process. Since `find_all` will always return data in format list, we will use `len()` to check how long is our list."
   ]
  },
  {
   "cell_type": "markdown",
   "metadata": {},
   "source": [
    "Finding row length of Date."
   ]
  },
  {
   "cell_type": "code",
   "execution_count": 15,
   "metadata": {},
   "outputs": [
    {
     "data": {
      "text/plain": [
       "50"
      ]
     },
     "execution_count": 15,
     "metadata": {},
     "output_type": "execute_result"
    }
   ],
   "source": [
    "row = table.find_all('div', attrs={'class':'kol-konten3-1'})\n",
    "row_length = len(row)\n",
    "row_length"
   ]
  },
  {
   "cell_type": "markdown",
   "metadata": {},
   "source": [
    "Now we know the length of our data, now here what we will do for the looping process. \n",
    "\n",
    "Here what the looping do to scrap the information: \n",
    "\n",
    "- First we need to establish a placeholder to receive the information that we scrap. \n",
    "- We named our placeholder `temp` and it's a list. \n",
    "- Then we will make a loop from one until the the length of the table row, \n",
    "- we will find is all cell of the columns which contain Date, Inflation value MoM, and Inflation value YoY. \n",
    "- Then we will append it to our tuple that we prepared before, \n",
    "- every one iteration we will scrap one line of the table.  "
   ]
  },
  {
   "cell_type": "code",
   "execution_count": 17,
   "metadata": {},
   "outputs": [
    {
     "data": {
      "text/plain": [
       "[('31/10/2023', '0,17', '2,56'),\n",
       " ('30/09/2023', '0,19', '2,28'),\n",
       " ('31/08/2023', '0,02', '3,27'),\n",
       " ('31/07/2023', '0,21', '3,08'),\n",
       " ('30/06/2023', '0.14', '3.52'),\n",
       " ('31/05/2023', '0.09', '4.00'),\n",
       " ('30/04/2023', '0,33', '4,33'),\n",
       " ('31/03/2023', '0.18', '4.97'),\n",
       " ('28/02/2023', '0,16', '5,47'),\n",
       " ('31/01/2023', '0,34', '5,28'),\n",
       " ('31/12/2022', '0,66', '5,51'),\n",
       " ('30/11/2022', '0,09', '5,42'),\n",
       " ('31/10/2022', '0,11', '5,71'),\n",
       " ('30/09/2022', '1,17', '5,95'),\n",
       " ('31/08/2022', '0,21', '4,69'),\n",
       " ('31/07/2022', '0,64', '4,94'),\n",
       " ('30/06/2022', '0.61', '4.35'),\n",
       " ('31/05/2022', '0,40', '3,55'),\n",
       " ('30/04/2022', '0,95', '3,47'),\n",
       " ('31/03/2022', '0.66', '2.64'),\n",
       " ('28/02/2022', '0,54', '2,06'),\n",
       " ('31/01/2022', '0,56', '2,18'),\n",
       " ('31/12/2021', '0,57', '1,87'),\n",
       " ('30/11/2021', '0,37', '1,75'),\n",
       " ('31/10/2021', '0,12', '1,66'),\n",
       " ('30/09/2021', '0,04', '1,60'),\n",
       " ('31/08/2021', '0,03', '1,59'),\n",
       " ('31/07/2021', '0,08', '1,52'),\n",
       " ('30/06/2021', '0,16', '1,33'),\n",
       " ('31/05/2021', '0,32', '1,68'),\n",
       " ('30/04/2021', '0,13', '1,42'),\n",
       " ('31/03/2021', '0,08', '1,37'),\n",
       " ('28/02/2021', '0,10', '1.38'),\n",
       " ('31/01/2021', '0,26', '1.55'),\n",
       " ('31/12/2020', '0,45', '1.68'),\n",
       " ('30/11/2020', '0,28', '1.59'),\n",
       " ('31/10/2020', '0,07', '1.44'),\n",
       " ('30/09/2020', '0,05', '1,42'),\n",
       " ('31/08/2020', '0.05', '1.32'),\n",
       " ('31/07/2020', '0.04', '1.54'),\n",
       " ('30/06/2020', '0.18', '1.96'),\n",
       " ('31/05/2020', '0,07', '2,19'),\n",
       " ('30/04/2020', '0,08', '2,67'),\n",
       " ('31/03/2020', '0.10', '2.96'),\n",
       " ('28/02/2020', '0,28', '2,98'),\n",
       " ('31/01/2020', '0,39', '2,68'),\n",
       " ('31/12/2019', '0,34', '2,27'),\n",
       " ('30/11/2019', '0,14', '3'),\n",
       " ('31/10/2019', '0,02', '2,22'),\n",
       " ('30/09/2019', '-0,27', '3,39')]"
      ]
     },
     "execution_count": 17,
     "metadata": {},
     "output_type": "execute_result"
    }
   ],
   "source": [
    "temp = [] #init\n",
    "for i in range(0, row_length):\n",
    "    #get period \n",
    "    date = table.find_all('div', attrs={'class':'kol-konten3-1'})[i].text\n",
    "\n",
    "    #get Inflation value MoM\n",
    "    inflation_rate_mom = table.find_all('div', attrs={'class':'kol-konten3-2'})[i].text\n",
    "    inflation_rate_mom = inflation_rate_mom.strip() #to remove excess white space\n",
    "    \n",
    "    #get Inflation value YoY\n",
    "    inflation_rate_yoy = table.find_all('div', attrs={'class':'kol-konten3-3'})[i].text\n",
    "    inflation_rate_yoy = inflation_rate_yoy.strip() #to remove excess white space\n",
    "    \n",
    "    temp.append((date, inflation_rate_mom, inflation_rate_yoy))\n",
    "        \n",
    "temp[:500]"
   ]
  },
  {
   "cell_type": "markdown",
   "metadata": {},
   "source": [
    "That the result we get, At this point we can input it to a pandas' DataFrame and do usual data analysis, but if you notice the original webpage give us reversed information. To do a further analysis let's reverse our list we can use `::-1` to do that. "
   ]
  },
  {
   "cell_type": "code",
   "execution_count": 18,
   "metadata": {},
   "outputs": [
    {
     "data": {
      "text/plain": [
       "[('30/09/2019', '-0,27', '3,39'),\n",
       " ('31/10/2019', '0,02', '2,22'),\n",
       " ('30/11/2019', '0,14', '3'),\n",
       " ('31/12/2019', '0,34', '2,27'),\n",
       " ('31/01/2020', '0,39', '2,68'),\n",
       " ('28/02/2020', '0,28', '2,98'),\n",
       " ('31/03/2020', '0.10', '2.96'),\n",
       " ('30/04/2020', '0,08', '2,67'),\n",
       " ('31/05/2020', '0,07', '2,19'),\n",
       " ('30/06/2020', '0.18', '1.96'),\n",
       " ('31/07/2020', '0.04', '1.54'),\n",
       " ('31/08/2020', '0.05', '1.32'),\n",
       " ('30/09/2020', '0,05', '1,42'),\n",
       " ('31/10/2020', '0,07', '1.44'),\n",
       " ('30/11/2020', '0,28', '1.59'),\n",
       " ('31/12/2020', '0,45', '1.68'),\n",
       " ('31/01/2021', '0,26', '1.55'),\n",
       " ('28/02/2021', '0,10', '1.38'),\n",
       " ('31/03/2021', '0,08', '1,37'),\n",
       " ('30/04/2021', '0,13', '1,42'),\n",
       " ('31/05/2021', '0,32', '1,68'),\n",
       " ('30/06/2021', '0,16', '1,33'),\n",
       " ('31/07/2021', '0,08', '1,52'),\n",
       " ('31/08/2021', '0,03', '1,59'),\n",
       " ('30/09/2021', '0,04', '1,60'),\n",
       " ('31/10/2021', '0,12', '1,66'),\n",
       " ('30/11/2021', '0,37', '1,75'),\n",
       " ('31/12/2021', '0,57', '1,87'),\n",
       " ('31/01/2022', '0,56', '2,18'),\n",
       " ('28/02/2022', '0,54', '2,06'),\n",
       " ('31/03/2022', '0.66', '2.64'),\n",
       " ('30/04/2022', '0,95', '3,47'),\n",
       " ('31/05/2022', '0,40', '3,55'),\n",
       " ('30/06/2022', '0.61', '4.35'),\n",
       " ('31/07/2022', '0,64', '4,94'),\n",
       " ('31/08/2022', '0,21', '4,69'),\n",
       " ('30/09/2022', '1,17', '5,95'),\n",
       " ('31/10/2022', '0,11', '5,71'),\n",
       " ('30/11/2022', '0,09', '5,42'),\n",
       " ('31/12/2022', '0,66', '5,51'),\n",
       " ('31/01/2023', '0,34', '5,28'),\n",
       " ('28/02/2023', '0,16', '5,47'),\n",
       " ('31/03/2023', '0.18', '4.97'),\n",
       " ('30/04/2023', '0,33', '4,33'),\n",
       " ('31/05/2023', '0.09', '4.00'),\n",
       " ('30/06/2023', '0.14', '3.52'),\n",
       " ('31/07/2023', '0,21', '3,08'),\n",
       " ('31/08/2023', '0,02', '3,27'),\n",
       " ('30/09/2023', '0,19', '2,28'),\n",
       " ('31/10/2023', '0,17', '2,56')]"
      ]
     },
     "execution_count": 18,
     "metadata": {},
     "output_type": "execute_result"
    }
   ],
   "source": [
    "temp = temp[::-1]\n",
    "temp"
   ]
  },
  {
   "cell_type": "code",
   "execution_count": 19,
   "metadata": {},
   "outputs": [
    {
     "data": {
      "text/plain": [
       "50"
      ]
     },
     "execution_count": 19,
     "metadata": {},
     "output_type": "execute_result"
    }
   ],
   "source": [
    "len(temp)"
   ]
  },
  {
   "cell_type": "markdown",
   "metadata": {},
   "source": [
    "Then after we fix our list a bit, as usual we will input it to pandas' dataframe."
   ]
  },
  {
   "cell_type": "markdown",
   "metadata": {},
   "source": [
    "## Creating data frame & Data wrangling"
   ]
  },
  {
   "cell_type": "markdown",
   "metadata": {},
   "source": [
    "Put the array into dataframe"
   ]
  },
  {
   "cell_type": "code",
   "execution_count": 23,
   "metadata": {
    "ExecuteTime": {
     "end_time": "2020-01-13T05:12:41.517372Z",
     "start_time": "2020-01-13T05:12:29.130015Z"
    }
   },
   "outputs": [
    {
     "data": {
      "text/html": [
       "<div>\n",
       "<style scoped>\n",
       "    .dataframe tbody tr th:only-of-type {\n",
       "        vertical-align: middle;\n",
       "    }\n",
       "\n",
       "    .dataframe tbody tr th {\n",
       "        vertical-align: top;\n",
       "    }\n",
       "\n",
       "    .dataframe thead th {\n",
       "        text-align: right;\n",
       "    }\n",
       "</style>\n",
       "<table border=\"1\" class=\"dataframe\">\n",
       "  <thead>\n",
       "    <tr style=\"text-align: right;\">\n",
       "      <th></th>\n",
       "      <th>Date</th>\n",
       "      <th>Inflation_MoM</th>\n",
       "      <th>Inflation_YoY</th>\n",
       "    </tr>\n",
       "  </thead>\n",
       "  <tbody>\n",
       "    <tr>\n",
       "      <th>0</th>\n",
       "      <td>30/09/2019</td>\n",
       "      <td>-0,27</td>\n",
       "      <td>3,39</td>\n",
       "    </tr>\n",
       "    <tr>\n",
       "      <th>1</th>\n",
       "      <td>31/10/2019</td>\n",
       "      <td>0,02</td>\n",
       "      <td>2,22</td>\n",
       "    </tr>\n",
       "    <tr>\n",
       "      <th>2</th>\n",
       "      <td>30/11/2019</td>\n",
       "      <td>0,14</td>\n",
       "      <td>3</td>\n",
       "    </tr>\n",
       "    <tr>\n",
       "      <th>3</th>\n",
       "      <td>31/12/2019</td>\n",
       "      <td>0,34</td>\n",
       "      <td>2,27</td>\n",
       "    </tr>\n",
       "    <tr>\n",
       "      <th>4</th>\n",
       "      <td>31/01/2020</td>\n",
       "      <td>0,39</td>\n",
       "      <td>2,68</td>\n",
       "    </tr>\n",
       "    <tr>\n",
       "      <th>5</th>\n",
       "      <td>28/02/2020</td>\n",
       "      <td>0,28</td>\n",
       "      <td>2,98</td>\n",
       "    </tr>\n",
       "    <tr>\n",
       "      <th>6</th>\n",
       "      <td>31/03/2020</td>\n",
       "      <td>0.10</td>\n",
       "      <td>2.96</td>\n",
       "    </tr>\n",
       "    <tr>\n",
       "      <th>7</th>\n",
       "      <td>30/04/2020</td>\n",
       "      <td>0,08</td>\n",
       "      <td>2,67</td>\n",
       "    </tr>\n",
       "    <tr>\n",
       "      <th>8</th>\n",
       "      <td>31/05/2020</td>\n",
       "      <td>0,07</td>\n",
       "      <td>2,19</td>\n",
       "    </tr>\n",
       "    <tr>\n",
       "      <th>9</th>\n",
       "      <td>30/06/2020</td>\n",
       "      <td>0.18</td>\n",
       "      <td>1.96</td>\n",
       "    </tr>\n",
       "  </tbody>\n",
       "</table>\n",
       "</div>"
      ],
      "text/plain": [
       "         Date Inflation_MoM Inflation_YoY\n",
       "0  30/09/2019         -0,27          3,39\n",
       "1  31/10/2019          0,02          2,22\n",
       "2  30/11/2019          0,14             3\n",
       "3  31/12/2019          0,34          2,27\n",
       "4  31/01/2020          0,39          2,68\n",
       "5  28/02/2020          0,28          2,98\n",
       "6  31/03/2020          0.10          2.96\n",
       "7  30/04/2020          0,08          2,67\n",
       "8  31/05/2020          0,07          2,19\n",
       "9  30/06/2020          0.18          1.96"
      ]
     },
     "execution_count": 23,
     "metadata": {},
     "output_type": "execute_result"
    }
   ],
   "source": [
    "import pandas as pd\n",
    "\n",
    "df = pd.DataFrame(temp, columns=('Date','Inflation_MoM', 'Inflation_YoY'))\n",
    "df.head(10)"
   ]
  },
  {
   "cell_type": "markdown",
   "metadata": {},
   "source": [
    "Let's check our dataframe data types to see if our data is useable. "
   ]
  },
  {
   "cell_type": "code",
   "execution_count": 24,
   "metadata": {
    "ExecuteTime": {
     "end_time": "2020-01-13T05:12:59.165559Z",
     "start_time": "2020-01-13T05:12:58.910012Z"
    }
   },
   "outputs": [
    {
     "data": {
      "text/plain": [
       "Date             object\n",
       "Inflation_MoM    object\n",
       "Inflation_YoY    object\n",
       "dtype: object"
      ]
     },
     "execution_count": 24,
     "metadata": {},
     "output_type": "execute_result"
    }
   ],
   "source": [
    "df.dtypes"
   ]
  },
  {
   "cell_type": "markdown",
   "metadata": {},
   "source": [
    "Usual stuff, we can clean the data or save it to csv let's do a bit cleaning so we can do a bit of visualisation. We will change the inflation to float datatype, but before we can do that we need to change the \",\" to \".\" first. To do this we can use the help of `str.replace()`. Then lastly let's fix our period data type."
   ]
  },
  {
   "cell_type": "code",
   "execution_count": 25,
   "metadata": {},
   "outputs": [
    {
     "name": "stderr",
     "output_type": "stream",
     "text": [
      "C:\\Users\\pinos\\anaconda3\\lib\\site-packages\\pandas\\core\\dtypes\\cast.py:1163: UserWarning: Parsing '30/09/2019' in DD/MM/YYYY format. Provide format or specify infer_datetime_format=True for consistent parsing.\n",
      "  to_datetime(arr).values,\n",
      "C:\\Users\\pinos\\anaconda3\\lib\\site-packages\\pandas\\core\\dtypes\\cast.py:1163: UserWarning: Parsing '31/10/2019' in DD/MM/YYYY format. Provide format or specify infer_datetime_format=True for consistent parsing.\n",
      "  to_datetime(arr).values,\n",
      "C:\\Users\\pinos\\anaconda3\\lib\\site-packages\\pandas\\core\\dtypes\\cast.py:1163: UserWarning: Parsing '30/11/2019' in DD/MM/YYYY format. Provide format or specify infer_datetime_format=True for consistent parsing.\n",
      "  to_datetime(arr).values,\n",
      "C:\\Users\\pinos\\anaconda3\\lib\\site-packages\\pandas\\core\\dtypes\\cast.py:1163: UserWarning: Parsing '31/12/2019' in DD/MM/YYYY format. Provide format or specify infer_datetime_format=True for consistent parsing.\n",
      "  to_datetime(arr).values,\n",
      "C:\\Users\\pinos\\anaconda3\\lib\\site-packages\\pandas\\core\\dtypes\\cast.py:1163: UserWarning: Parsing '31/01/2020' in DD/MM/YYYY format. Provide format or specify infer_datetime_format=True for consistent parsing.\n",
      "  to_datetime(arr).values,\n",
      "C:\\Users\\pinos\\anaconda3\\lib\\site-packages\\pandas\\core\\dtypes\\cast.py:1163: UserWarning: Parsing '28/02/2020' in DD/MM/YYYY format. Provide format or specify infer_datetime_format=True for consistent parsing.\n",
      "  to_datetime(arr).values,\n",
      "C:\\Users\\pinos\\anaconda3\\lib\\site-packages\\pandas\\core\\dtypes\\cast.py:1163: UserWarning: Parsing '31/03/2020' in DD/MM/YYYY format. Provide format or specify infer_datetime_format=True for consistent parsing.\n",
      "  to_datetime(arr).values,\n",
      "C:\\Users\\pinos\\anaconda3\\lib\\site-packages\\pandas\\core\\dtypes\\cast.py:1163: UserWarning: Parsing '30/04/2020' in DD/MM/YYYY format. Provide format or specify infer_datetime_format=True for consistent parsing.\n",
      "  to_datetime(arr).values,\n",
      "C:\\Users\\pinos\\anaconda3\\lib\\site-packages\\pandas\\core\\dtypes\\cast.py:1163: UserWarning: Parsing '31/05/2020' in DD/MM/YYYY format. Provide format or specify infer_datetime_format=True for consistent parsing.\n",
      "  to_datetime(arr).values,\n",
      "C:\\Users\\pinos\\anaconda3\\lib\\site-packages\\pandas\\core\\dtypes\\cast.py:1163: UserWarning: Parsing '30/06/2020' in DD/MM/YYYY format. Provide format or specify infer_datetime_format=True for consistent parsing.\n",
      "  to_datetime(arr).values,\n",
      "C:\\Users\\pinos\\anaconda3\\lib\\site-packages\\pandas\\core\\dtypes\\cast.py:1163: UserWarning: Parsing '31/07/2020' in DD/MM/YYYY format. Provide format or specify infer_datetime_format=True for consistent parsing.\n",
      "  to_datetime(arr).values,\n",
      "C:\\Users\\pinos\\anaconda3\\lib\\site-packages\\pandas\\core\\dtypes\\cast.py:1163: UserWarning: Parsing '31/08/2020' in DD/MM/YYYY format. Provide format or specify infer_datetime_format=True for consistent parsing.\n",
      "  to_datetime(arr).values,\n",
      "C:\\Users\\pinos\\anaconda3\\lib\\site-packages\\pandas\\core\\dtypes\\cast.py:1163: UserWarning: Parsing '30/09/2020' in DD/MM/YYYY format. Provide format or specify infer_datetime_format=True for consistent parsing.\n",
      "  to_datetime(arr).values,\n",
      "C:\\Users\\pinos\\anaconda3\\lib\\site-packages\\pandas\\core\\dtypes\\cast.py:1163: UserWarning: Parsing '31/10/2020' in DD/MM/YYYY format. Provide format or specify infer_datetime_format=True for consistent parsing.\n",
      "  to_datetime(arr).values,\n",
      "C:\\Users\\pinos\\anaconda3\\lib\\site-packages\\pandas\\core\\dtypes\\cast.py:1163: UserWarning: Parsing '30/11/2020' in DD/MM/YYYY format. Provide format or specify infer_datetime_format=True for consistent parsing.\n",
      "  to_datetime(arr).values,\n",
      "C:\\Users\\pinos\\anaconda3\\lib\\site-packages\\pandas\\core\\dtypes\\cast.py:1163: UserWarning: Parsing '31/12/2020' in DD/MM/YYYY format. Provide format or specify infer_datetime_format=True for consistent parsing.\n",
      "  to_datetime(arr).values,\n",
      "C:\\Users\\pinos\\anaconda3\\lib\\site-packages\\pandas\\core\\dtypes\\cast.py:1163: UserWarning: Parsing '31/01/2021' in DD/MM/YYYY format. Provide format or specify infer_datetime_format=True for consistent parsing.\n",
      "  to_datetime(arr).values,\n",
      "C:\\Users\\pinos\\anaconda3\\lib\\site-packages\\pandas\\core\\dtypes\\cast.py:1163: UserWarning: Parsing '28/02/2021' in DD/MM/YYYY format. Provide format or specify infer_datetime_format=True for consistent parsing.\n",
      "  to_datetime(arr).values,\n",
      "C:\\Users\\pinos\\anaconda3\\lib\\site-packages\\pandas\\core\\dtypes\\cast.py:1163: UserWarning: Parsing '31/03/2021' in DD/MM/YYYY format. Provide format or specify infer_datetime_format=True for consistent parsing.\n",
      "  to_datetime(arr).values,\n",
      "C:\\Users\\pinos\\anaconda3\\lib\\site-packages\\pandas\\core\\dtypes\\cast.py:1163: UserWarning: Parsing '30/04/2021' in DD/MM/YYYY format. Provide format or specify infer_datetime_format=True for consistent parsing.\n",
      "  to_datetime(arr).values,\n",
      "C:\\Users\\pinos\\anaconda3\\lib\\site-packages\\pandas\\core\\dtypes\\cast.py:1163: UserWarning: Parsing '31/05/2021' in DD/MM/YYYY format. Provide format or specify infer_datetime_format=True for consistent parsing.\n",
      "  to_datetime(arr).values,\n",
      "C:\\Users\\pinos\\anaconda3\\lib\\site-packages\\pandas\\core\\dtypes\\cast.py:1163: UserWarning: Parsing '30/06/2021' in DD/MM/YYYY format. Provide format or specify infer_datetime_format=True for consistent parsing.\n",
      "  to_datetime(arr).values,\n",
      "C:\\Users\\pinos\\anaconda3\\lib\\site-packages\\pandas\\core\\dtypes\\cast.py:1163: UserWarning: Parsing '31/07/2021' in DD/MM/YYYY format. Provide format or specify infer_datetime_format=True for consistent parsing.\n",
      "  to_datetime(arr).values,\n",
      "C:\\Users\\pinos\\anaconda3\\lib\\site-packages\\pandas\\core\\dtypes\\cast.py:1163: UserWarning: Parsing '31/08/2021' in DD/MM/YYYY format. Provide format or specify infer_datetime_format=True for consistent parsing.\n",
      "  to_datetime(arr).values,\n",
      "C:\\Users\\pinos\\anaconda3\\lib\\site-packages\\pandas\\core\\dtypes\\cast.py:1163: UserWarning: Parsing '30/09/2021' in DD/MM/YYYY format. Provide format or specify infer_datetime_format=True for consistent parsing.\n",
      "  to_datetime(arr).values,\n",
      "C:\\Users\\pinos\\anaconda3\\lib\\site-packages\\pandas\\core\\dtypes\\cast.py:1163: UserWarning: Parsing '31/10/2021' in DD/MM/YYYY format. Provide format or specify infer_datetime_format=True for consistent parsing.\n",
      "  to_datetime(arr).values,\n",
      "C:\\Users\\pinos\\anaconda3\\lib\\site-packages\\pandas\\core\\dtypes\\cast.py:1163: UserWarning: Parsing '30/11/2021' in DD/MM/YYYY format. Provide format or specify infer_datetime_format=True for consistent parsing.\n",
      "  to_datetime(arr).values,\n",
      "C:\\Users\\pinos\\anaconda3\\lib\\site-packages\\pandas\\core\\dtypes\\cast.py:1163: UserWarning: Parsing '31/12/2021' in DD/MM/YYYY format. Provide format or specify infer_datetime_format=True for consistent parsing.\n",
      "  to_datetime(arr).values,\n",
      "C:\\Users\\pinos\\anaconda3\\lib\\site-packages\\pandas\\core\\dtypes\\cast.py:1163: UserWarning: Parsing '31/01/2022' in DD/MM/YYYY format. Provide format or specify infer_datetime_format=True for consistent parsing.\n",
      "  to_datetime(arr).values,\n",
      "C:\\Users\\pinos\\anaconda3\\lib\\site-packages\\pandas\\core\\dtypes\\cast.py:1163: UserWarning: Parsing '28/02/2022' in DD/MM/YYYY format. Provide format or specify infer_datetime_format=True for consistent parsing.\n",
      "  to_datetime(arr).values,\n",
      "C:\\Users\\pinos\\anaconda3\\lib\\site-packages\\pandas\\core\\dtypes\\cast.py:1163: UserWarning: Parsing '31/03/2022' in DD/MM/YYYY format. Provide format or specify infer_datetime_format=True for consistent parsing.\n",
      "  to_datetime(arr).values,\n",
      "C:\\Users\\pinos\\anaconda3\\lib\\site-packages\\pandas\\core\\dtypes\\cast.py:1163: UserWarning: Parsing '30/04/2022' in DD/MM/YYYY format. Provide format or specify infer_datetime_format=True for consistent parsing.\n",
      "  to_datetime(arr).values,\n",
      "C:\\Users\\pinos\\anaconda3\\lib\\site-packages\\pandas\\core\\dtypes\\cast.py:1163: UserWarning: Parsing '31/05/2022' in DD/MM/YYYY format. Provide format or specify infer_datetime_format=True for consistent parsing.\n",
      "  to_datetime(arr).values,\n",
      "C:\\Users\\pinos\\anaconda3\\lib\\site-packages\\pandas\\core\\dtypes\\cast.py:1163: UserWarning: Parsing '30/06/2022' in DD/MM/YYYY format. Provide format or specify infer_datetime_format=True for consistent parsing.\n",
      "  to_datetime(arr).values,\n",
      "C:\\Users\\pinos\\anaconda3\\lib\\site-packages\\pandas\\core\\dtypes\\cast.py:1163: UserWarning: Parsing '31/07/2022' in DD/MM/YYYY format. Provide format or specify infer_datetime_format=True for consistent parsing.\n",
      "  to_datetime(arr).values,\n",
      "C:\\Users\\pinos\\anaconda3\\lib\\site-packages\\pandas\\core\\dtypes\\cast.py:1163: UserWarning: Parsing '31/08/2022' in DD/MM/YYYY format. Provide format or specify infer_datetime_format=True for consistent parsing.\n",
      "  to_datetime(arr).values,\n",
      "C:\\Users\\pinos\\anaconda3\\lib\\site-packages\\pandas\\core\\dtypes\\cast.py:1163: UserWarning: Parsing '30/09/2022' in DD/MM/YYYY format. Provide format or specify infer_datetime_format=True for consistent parsing.\n",
      "  to_datetime(arr).values,\n",
      "C:\\Users\\pinos\\anaconda3\\lib\\site-packages\\pandas\\core\\dtypes\\cast.py:1163: UserWarning: Parsing '31/10/2022' in DD/MM/YYYY format. Provide format or specify infer_datetime_format=True for consistent parsing.\n",
      "  to_datetime(arr).values,\n",
      "C:\\Users\\pinos\\anaconda3\\lib\\site-packages\\pandas\\core\\dtypes\\cast.py:1163: UserWarning: Parsing '30/11/2022' in DD/MM/YYYY format. Provide format or specify infer_datetime_format=True for consistent parsing.\n",
      "  to_datetime(arr).values,\n",
      "C:\\Users\\pinos\\anaconda3\\lib\\site-packages\\pandas\\core\\dtypes\\cast.py:1163: UserWarning: Parsing '31/12/2022' in DD/MM/YYYY format. Provide format or specify infer_datetime_format=True for consistent parsing.\n",
      "  to_datetime(arr).values,\n",
      "C:\\Users\\pinos\\anaconda3\\lib\\site-packages\\pandas\\core\\dtypes\\cast.py:1163: UserWarning: Parsing '31/01/2023' in DD/MM/YYYY format. Provide format or specify infer_datetime_format=True for consistent parsing.\n",
      "  to_datetime(arr).values,\n",
      "C:\\Users\\pinos\\anaconda3\\lib\\site-packages\\pandas\\core\\dtypes\\cast.py:1163: UserWarning: Parsing '28/02/2023' in DD/MM/YYYY format. Provide format or specify infer_datetime_format=True for consistent parsing.\n",
      "  to_datetime(arr).values,\n",
      "C:\\Users\\pinos\\anaconda3\\lib\\site-packages\\pandas\\core\\dtypes\\cast.py:1163: UserWarning: Parsing '31/03/2023' in DD/MM/YYYY format. Provide format or specify infer_datetime_format=True for consistent parsing.\n",
      "  to_datetime(arr).values,\n",
      "C:\\Users\\pinos\\anaconda3\\lib\\site-packages\\pandas\\core\\dtypes\\cast.py:1163: UserWarning: Parsing '30/04/2023' in DD/MM/YYYY format. Provide format or specify infer_datetime_format=True for consistent parsing.\n",
      "  to_datetime(arr).values,\n",
      "C:\\Users\\pinos\\anaconda3\\lib\\site-packages\\pandas\\core\\dtypes\\cast.py:1163: UserWarning: Parsing '31/05/2023' in DD/MM/YYYY format. Provide format or specify infer_datetime_format=True for consistent parsing.\n",
      "  to_datetime(arr).values,\n",
      "C:\\Users\\pinos\\anaconda3\\lib\\site-packages\\pandas\\core\\dtypes\\cast.py:1163: UserWarning: Parsing '30/06/2023' in DD/MM/YYYY format. Provide format or specify infer_datetime_format=True for consistent parsing.\n",
      "  to_datetime(arr).values,\n",
      "C:\\Users\\pinos\\anaconda3\\lib\\site-packages\\pandas\\core\\dtypes\\cast.py:1163: UserWarning: Parsing '31/07/2023' in DD/MM/YYYY format. Provide format or specify infer_datetime_format=True for consistent parsing.\n",
      "  to_datetime(arr).values,\n",
      "C:\\Users\\pinos\\anaconda3\\lib\\site-packages\\pandas\\core\\dtypes\\cast.py:1163: UserWarning: Parsing '31/08/2023' in DD/MM/YYYY format. Provide format or specify infer_datetime_format=True for consistent parsing.\n",
      "  to_datetime(arr).values,\n",
      "C:\\Users\\pinos\\anaconda3\\lib\\site-packages\\pandas\\core\\dtypes\\cast.py:1163: UserWarning: Parsing '30/09/2023' in DD/MM/YYYY format. Provide format or specify infer_datetime_format=True for consistent parsing.\n",
      "  to_datetime(arr).values,\n",
      "C:\\Users\\pinos\\anaconda3\\lib\\site-packages\\pandas\\core\\dtypes\\cast.py:1163: UserWarning: Parsing '31/10/2023' in DD/MM/YYYY format. Provide format or specify infer_datetime_format=True for consistent parsing.\n",
      "  to_datetime(arr).values,\n"
     ]
    },
    {
     "data": {
      "text/plain": [
       "Date             datetime64[ns]\n",
       "Inflation_MoM           float64\n",
       "Inflation_YoY           float64\n",
       "dtype: object"
      ]
     },
     "execution_count": 25,
     "metadata": {},
     "output_type": "execute_result"
    }
   ],
   "source": [
    "df['Inflation_MoM'] = df['Inflation_MoM'].str.replace(\",\",\".\").astype('float')\n",
    "df['Inflation_YoY'] = df['Inflation_YoY'].str.replace(\",\",\".\").astype('float')\n",
    "df['Date'] = df['Date'].astype('datetime64')\n",
    "\n",
    "df.dtypes"
   ]
  },
  {
   "cell_type": "markdown",
   "metadata": {},
   "source": [
    "The results of the data after cleaning the data."
   ]
  },
  {
   "cell_type": "code",
   "execution_count": 31,
   "metadata": {},
   "outputs": [
    {
     "data": {
      "text/html": [
       "<div>\n",
       "<style scoped>\n",
       "    .dataframe tbody tr th:only-of-type {\n",
       "        vertical-align: middle;\n",
       "    }\n",
       "\n",
       "    .dataframe tbody tr th {\n",
       "        vertical-align: top;\n",
       "    }\n",
       "\n",
       "    .dataframe thead th {\n",
       "        text-align: right;\n",
       "    }\n",
       "</style>\n",
       "<table border=\"1\" class=\"dataframe\">\n",
       "  <thead>\n",
       "    <tr style=\"text-align: right;\">\n",
       "      <th></th>\n",
       "      <th>Date</th>\n",
       "      <th>Inflation_MoM</th>\n",
       "      <th>Inflation_YoY</th>\n",
       "    </tr>\n",
       "  </thead>\n",
       "  <tbody>\n",
       "    <tr>\n",
       "      <th>0</th>\n",
       "      <td>2019-09-30</td>\n",
       "      <td>-0.27</td>\n",
       "      <td>3.39</td>\n",
       "    </tr>\n",
       "    <tr>\n",
       "      <th>1</th>\n",
       "      <td>2019-10-31</td>\n",
       "      <td>0.02</td>\n",
       "      <td>2.22</td>\n",
       "    </tr>\n",
       "    <tr>\n",
       "      <th>2</th>\n",
       "      <td>2019-11-30</td>\n",
       "      <td>0.14</td>\n",
       "      <td>3.00</td>\n",
       "    </tr>\n",
       "    <tr>\n",
       "      <th>3</th>\n",
       "      <td>2019-12-31</td>\n",
       "      <td>0.34</td>\n",
       "      <td>2.27</td>\n",
       "    </tr>\n",
       "    <tr>\n",
       "      <th>4</th>\n",
       "      <td>2020-01-31</td>\n",
       "      <td>0.39</td>\n",
       "      <td>2.68</td>\n",
       "    </tr>\n",
       "    <tr>\n",
       "      <th>5</th>\n",
       "      <td>2020-02-28</td>\n",
       "      <td>0.28</td>\n",
       "      <td>2.98</td>\n",
       "    </tr>\n",
       "    <tr>\n",
       "      <th>6</th>\n",
       "      <td>2020-03-31</td>\n",
       "      <td>0.10</td>\n",
       "      <td>2.96</td>\n",
       "    </tr>\n",
       "    <tr>\n",
       "      <th>7</th>\n",
       "      <td>2020-04-30</td>\n",
       "      <td>0.08</td>\n",
       "      <td>2.67</td>\n",
       "    </tr>\n",
       "    <tr>\n",
       "      <th>8</th>\n",
       "      <td>2020-05-31</td>\n",
       "      <td>0.07</td>\n",
       "      <td>2.19</td>\n",
       "    </tr>\n",
       "    <tr>\n",
       "      <th>9</th>\n",
       "      <td>2020-06-30</td>\n",
       "      <td>0.18</td>\n",
       "      <td>1.96</td>\n",
       "    </tr>\n",
       "  </tbody>\n",
       "</table>\n",
       "</div>"
      ],
      "text/plain": [
       "        Date  Inflation_MoM  Inflation_YoY\n",
       "0 2019-09-30          -0.27           3.39\n",
       "1 2019-10-31           0.02           2.22\n",
       "2 2019-11-30           0.14           3.00\n",
       "3 2019-12-31           0.34           2.27\n",
       "4 2020-01-31           0.39           2.68\n",
       "5 2020-02-28           0.28           2.98\n",
       "6 2020-03-31           0.10           2.96\n",
       "7 2020-04-30           0.08           2.67\n",
       "8 2020-05-31           0.07           2.19\n",
       "9 2020-06-30           0.18           1.96"
      ]
     },
     "execution_count": 31,
     "metadata": {},
     "output_type": "execute_result"
    }
   ],
   "source": [
    "df.head(10)"
   ]
  },
  {
   "cell_type": "markdown",
   "metadata": {},
   "source": [
    "To export the Web-Scrapping result regarding the inflation rate, we can use \"variable that contain result data\".to_csv(\"Name of file\", index=False)"
   ]
  },
  {
   "cell_type": "code",
   "execution_count": 29,
   "metadata": {},
   "outputs": [],
   "source": [
    "df.to_csv(\"Inflation_rate.csv\", index=False)"
   ]
  },
  {
   "cell_type": "markdown",
   "metadata": {},
   "source": [
    "Check the Output Data"
   ]
  },
  {
   "cell_type": "code",
   "execution_count": 37,
   "metadata": {},
   "outputs": [
    {
     "data": {
      "text/html": [
       "<div>\n",
       "<style scoped>\n",
       "    .dataframe tbody tr th:only-of-type {\n",
       "        vertical-align: middle;\n",
       "    }\n",
       "\n",
       "    .dataframe tbody tr th {\n",
       "        vertical-align: top;\n",
       "    }\n",
       "\n",
       "    .dataframe thead th {\n",
       "        text-align: right;\n",
       "    }\n",
       "</style>\n",
       "<table border=\"1\" class=\"dataframe\">\n",
       "  <thead>\n",
       "    <tr style=\"text-align: right;\">\n",
       "      <th></th>\n",
       "      <th>Date</th>\n",
       "      <th>Inflation_MoM</th>\n",
       "      <th>Inflation_YoY</th>\n",
       "    </tr>\n",
       "  </thead>\n",
       "  <tbody>\n",
       "    <tr>\n",
       "      <th>0</th>\n",
       "      <td>2019-09-30</td>\n",
       "      <td>-0.27</td>\n",
       "      <td>3.39</td>\n",
       "    </tr>\n",
       "    <tr>\n",
       "      <th>1</th>\n",
       "      <td>2019-10-31</td>\n",
       "      <td>0.02</td>\n",
       "      <td>2.22</td>\n",
       "    </tr>\n",
       "    <tr>\n",
       "      <th>2</th>\n",
       "      <td>2019-11-30</td>\n",
       "      <td>0.14</td>\n",
       "      <td>3.00</td>\n",
       "    </tr>\n",
       "    <tr>\n",
       "      <th>3</th>\n",
       "      <td>2019-12-31</td>\n",
       "      <td>0.34</td>\n",
       "      <td>2.27</td>\n",
       "    </tr>\n",
       "    <tr>\n",
       "      <th>4</th>\n",
       "      <td>2020-01-31</td>\n",
       "      <td>0.39</td>\n",
       "      <td>2.68</td>\n",
       "    </tr>\n",
       "    <tr>\n",
       "      <th>5</th>\n",
       "      <td>2020-02-28</td>\n",
       "      <td>0.28</td>\n",
       "      <td>2.98</td>\n",
       "    </tr>\n",
       "    <tr>\n",
       "      <th>6</th>\n",
       "      <td>2020-03-31</td>\n",
       "      <td>0.10</td>\n",
       "      <td>2.96</td>\n",
       "    </tr>\n",
       "    <tr>\n",
       "      <th>7</th>\n",
       "      <td>2020-04-30</td>\n",
       "      <td>0.08</td>\n",
       "      <td>2.67</td>\n",
       "    </tr>\n",
       "    <tr>\n",
       "      <th>8</th>\n",
       "      <td>2020-05-31</td>\n",
       "      <td>0.07</td>\n",
       "      <td>2.19</td>\n",
       "    </tr>\n",
       "    <tr>\n",
       "      <th>9</th>\n",
       "      <td>2020-06-30</td>\n",
       "      <td>0.18</td>\n",
       "      <td>1.96</td>\n",
       "    </tr>\n",
       "    <tr>\n",
       "      <th>10</th>\n",
       "      <td>2020-07-31</td>\n",
       "      <td>0.04</td>\n",
       "      <td>1.54</td>\n",
       "    </tr>\n",
       "    <tr>\n",
       "      <th>11</th>\n",
       "      <td>2020-08-31</td>\n",
       "      <td>0.05</td>\n",
       "      <td>1.32</td>\n",
       "    </tr>\n",
       "    <tr>\n",
       "      <th>12</th>\n",
       "      <td>2020-09-30</td>\n",
       "      <td>0.05</td>\n",
       "      <td>1.42</td>\n",
       "    </tr>\n",
       "    <tr>\n",
       "      <th>13</th>\n",
       "      <td>2020-10-31</td>\n",
       "      <td>0.07</td>\n",
       "      <td>1.44</td>\n",
       "    </tr>\n",
       "    <tr>\n",
       "      <th>14</th>\n",
       "      <td>2020-11-30</td>\n",
       "      <td>0.28</td>\n",
       "      <td>1.59</td>\n",
       "    </tr>\n",
       "    <tr>\n",
       "      <th>15</th>\n",
       "      <td>2020-12-31</td>\n",
       "      <td>0.45</td>\n",
       "      <td>1.68</td>\n",
       "    </tr>\n",
       "    <tr>\n",
       "      <th>16</th>\n",
       "      <td>2021-01-31</td>\n",
       "      <td>0.26</td>\n",
       "      <td>1.55</td>\n",
       "    </tr>\n",
       "    <tr>\n",
       "      <th>17</th>\n",
       "      <td>2021-02-28</td>\n",
       "      <td>0.10</td>\n",
       "      <td>1.38</td>\n",
       "    </tr>\n",
       "    <tr>\n",
       "      <th>18</th>\n",
       "      <td>2021-03-31</td>\n",
       "      <td>0.08</td>\n",
       "      <td>1.37</td>\n",
       "    </tr>\n",
       "    <tr>\n",
       "      <th>19</th>\n",
       "      <td>2021-04-30</td>\n",
       "      <td>0.13</td>\n",
       "      <td>1.42</td>\n",
       "    </tr>\n",
       "    <tr>\n",
       "      <th>20</th>\n",
       "      <td>2021-05-31</td>\n",
       "      <td>0.32</td>\n",
       "      <td>1.68</td>\n",
       "    </tr>\n",
       "    <tr>\n",
       "      <th>21</th>\n",
       "      <td>2021-06-30</td>\n",
       "      <td>0.16</td>\n",
       "      <td>1.33</td>\n",
       "    </tr>\n",
       "    <tr>\n",
       "      <th>22</th>\n",
       "      <td>2021-07-31</td>\n",
       "      <td>0.08</td>\n",
       "      <td>1.52</td>\n",
       "    </tr>\n",
       "    <tr>\n",
       "      <th>23</th>\n",
       "      <td>2021-08-31</td>\n",
       "      <td>0.03</td>\n",
       "      <td>1.59</td>\n",
       "    </tr>\n",
       "    <tr>\n",
       "      <th>24</th>\n",
       "      <td>2021-09-30</td>\n",
       "      <td>0.04</td>\n",
       "      <td>1.60</td>\n",
       "    </tr>\n",
       "    <tr>\n",
       "      <th>25</th>\n",
       "      <td>2021-10-31</td>\n",
       "      <td>0.12</td>\n",
       "      <td>1.66</td>\n",
       "    </tr>\n",
       "    <tr>\n",
       "      <th>26</th>\n",
       "      <td>2021-11-30</td>\n",
       "      <td>0.37</td>\n",
       "      <td>1.75</td>\n",
       "    </tr>\n",
       "    <tr>\n",
       "      <th>27</th>\n",
       "      <td>2021-12-31</td>\n",
       "      <td>0.57</td>\n",
       "      <td>1.87</td>\n",
       "    </tr>\n",
       "    <tr>\n",
       "      <th>28</th>\n",
       "      <td>2022-01-31</td>\n",
       "      <td>0.56</td>\n",
       "      <td>2.18</td>\n",
       "    </tr>\n",
       "    <tr>\n",
       "      <th>29</th>\n",
       "      <td>2022-02-28</td>\n",
       "      <td>0.54</td>\n",
       "      <td>2.06</td>\n",
       "    </tr>\n",
       "    <tr>\n",
       "      <th>30</th>\n",
       "      <td>2022-03-31</td>\n",
       "      <td>0.66</td>\n",
       "      <td>2.64</td>\n",
       "    </tr>\n",
       "    <tr>\n",
       "      <th>31</th>\n",
       "      <td>2022-04-30</td>\n",
       "      <td>0.95</td>\n",
       "      <td>3.47</td>\n",
       "    </tr>\n",
       "    <tr>\n",
       "      <th>32</th>\n",
       "      <td>2022-05-31</td>\n",
       "      <td>0.40</td>\n",
       "      <td>3.55</td>\n",
       "    </tr>\n",
       "    <tr>\n",
       "      <th>33</th>\n",
       "      <td>2022-06-30</td>\n",
       "      <td>0.61</td>\n",
       "      <td>4.35</td>\n",
       "    </tr>\n",
       "    <tr>\n",
       "      <th>34</th>\n",
       "      <td>2022-07-31</td>\n",
       "      <td>0.64</td>\n",
       "      <td>4.94</td>\n",
       "    </tr>\n",
       "    <tr>\n",
       "      <th>35</th>\n",
       "      <td>2022-08-31</td>\n",
       "      <td>0.21</td>\n",
       "      <td>4.69</td>\n",
       "    </tr>\n",
       "    <tr>\n",
       "      <th>36</th>\n",
       "      <td>2022-09-30</td>\n",
       "      <td>1.17</td>\n",
       "      <td>5.95</td>\n",
       "    </tr>\n",
       "    <tr>\n",
       "      <th>37</th>\n",
       "      <td>2022-10-31</td>\n",
       "      <td>0.11</td>\n",
       "      <td>5.71</td>\n",
       "    </tr>\n",
       "    <tr>\n",
       "      <th>38</th>\n",
       "      <td>2022-11-30</td>\n",
       "      <td>0.09</td>\n",
       "      <td>5.42</td>\n",
       "    </tr>\n",
       "    <tr>\n",
       "      <th>39</th>\n",
       "      <td>2022-12-31</td>\n",
       "      <td>0.66</td>\n",
       "      <td>5.51</td>\n",
       "    </tr>\n",
       "    <tr>\n",
       "      <th>40</th>\n",
       "      <td>2023-01-31</td>\n",
       "      <td>0.34</td>\n",
       "      <td>5.28</td>\n",
       "    </tr>\n",
       "    <tr>\n",
       "      <th>41</th>\n",
       "      <td>2023-02-28</td>\n",
       "      <td>0.16</td>\n",
       "      <td>5.47</td>\n",
       "    </tr>\n",
       "    <tr>\n",
       "      <th>42</th>\n",
       "      <td>2023-03-31</td>\n",
       "      <td>0.18</td>\n",
       "      <td>4.97</td>\n",
       "    </tr>\n",
       "    <tr>\n",
       "      <th>43</th>\n",
       "      <td>2023-04-30</td>\n",
       "      <td>0.33</td>\n",
       "      <td>4.33</td>\n",
       "    </tr>\n",
       "    <tr>\n",
       "      <th>44</th>\n",
       "      <td>2023-05-31</td>\n",
       "      <td>0.09</td>\n",
       "      <td>4.00</td>\n",
       "    </tr>\n",
       "    <tr>\n",
       "      <th>45</th>\n",
       "      <td>2023-06-30</td>\n",
       "      <td>0.14</td>\n",
       "      <td>3.52</td>\n",
       "    </tr>\n",
       "    <tr>\n",
       "      <th>46</th>\n",
       "      <td>2023-07-31</td>\n",
       "      <td>0.21</td>\n",
       "      <td>3.08</td>\n",
       "    </tr>\n",
       "    <tr>\n",
       "      <th>47</th>\n",
       "      <td>2023-08-31</td>\n",
       "      <td>0.02</td>\n",
       "      <td>3.27</td>\n",
       "    </tr>\n",
       "    <tr>\n",
       "      <th>48</th>\n",
       "      <td>2023-09-30</td>\n",
       "      <td>0.19</td>\n",
       "      <td>2.28</td>\n",
       "    </tr>\n",
       "    <tr>\n",
       "      <th>49</th>\n",
       "      <td>2023-10-31</td>\n",
       "      <td>0.17</td>\n",
       "      <td>2.56</td>\n",
       "    </tr>\n",
       "  </tbody>\n",
       "</table>\n",
       "</div>"
      ],
      "text/plain": [
       "          Date  Inflation_MoM  Inflation_YoY\n",
       "0   2019-09-30          -0.27           3.39\n",
       "1   2019-10-31           0.02           2.22\n",
       "2   2019-11-30           0.14           3.00\n",
       "3   2019-12-31           0.34           2.27\n",
       "4   2020-01-31           0.39           2.68\n",
       "5   2020-02-28           0.28           2.98\n",
       "6   2020-03-31           0.10           2.96\n",
       "7   2020-04-30           0.08           2.67\n",
       "8   2020-05-31           0.07           2.19\n",
       "9   2020-06-30           0.18           1.96\n",
       "10  2020-07-31           0.04           1.54\n",
       "11  2020-08-31           0.05           1.32\n",
       "12  2020-09-30           0.05           1.42\n",
       "13  2020-10-31           0.07           1.44\n",
       "14  2020-11-30           0.28           1.59\n",
       "15  2020-12-31           0.45           1.68\n",
       "16  2021-01-31           0.26           1.55\n",
       "17  2021-02-28           0.10           1.38\n",
       "18  2021-03-31           0.08           1.37\n",
       "19  2021-04-30           0.13           1.42\n",
       "20  2021-05-31           0.32           1.68\n",
       "21  2021-06-30           0.16           1.33\n",
       "22  2021-07-31           0.08           1.52\n",
       "23  2021-08-31           0.03           1.59\n",
       "24  2021-09-30           0.04           1.60\n",
       "25  2021-10-31           0.12           1.66\n",
       "26  2021-11-30           0.37           1.75\n",
       "27  2021-12-31           0.57           1.87\n",
       "28  2022-01-31           0.56           2.18\n",
       "29  2022-02-28           0.54           2.06\n",
       "30  2022-03-31           0.66           2.64\n",
       "31  2022-04-30           0.95           3.47\n",
       "32  2022-05-31           0.40           3.55\n",
       "33  2022-06-30           0.61           4.35\n",
       "34  2022-07-31           0.64           4.94\n",
       "35  2022-08-31           0.21           4.69\n",
       "36  2022-09-30           1.17           5.95\n",
       "37  2022-10-31           0.11           5.71\n",
       "38  2022-11-30           0.09           5.42\n",
       "39  2022-12-31           0.66           5.51\n",
       "40  2023-01-31           0.34           5.28\n",
       "41  2023-02-28           0.16           5.47\n",
       "42  2023-03-31           0.18           4.97\n",
       "43  2023-04-30           0.33           4.33\n",
       "44  2023-05-31           0.09           4.00\n",
       "45  2023-06-30           0.14           3.52\n",
       "46  2023-07-31           0.21           3.08\n",
       "47  2023-08-31           0.02           3.27\n",
       "48  2023-09-30           0.19           2.28\n",
       "49  2023-10-31           0.17           2.56"
      ]
     },
     "execution_count": 37,
     "metadata": {},
     "output_type": "execute_result"
    }
   ],
   "source": [
    "pd.read_csv(\"Inflation_rate.csv\")"
   ]
  },
  {
   "cell_type": "markdown",
   "metadata": {},
   "source": [
    "## Finishing This Notebook with Your Analysis and Conclusion\n",
    "\n",
    "First you can do start with making the data visualisation. "
   ]
  },
  {
   "cell_type": "markdown",
   "metadata": {},
   "source": [
    "We can do our simple visualisation to put the cherry on top."
   ]
  },
  {
   "cell_type": "markdown",
   "metadata": {},
   "source": [
    "Inflation MoM Fluctuations Diagram"
   ]
  },
  {
   "cell_type": "code",
   "execution_count": 34,
   "metadata": {
    "ExecuteTime": {
     "end_time": "2020-01-13T05:20:56.208237Z",
     "start_time": "2020-01-13T05:20:56.076043Z"
    }
   },
   "outputs": [
    {
     "data": {
      "text/plain": [
       "<AxesSubplot:xlabel='Date'>"
      ]
     },
     "execution_count": 34,
     "metadata": {},
     "output_type": "execute_result"
    },
    {
     "data": {
      "image/png": "[encoded data removed]",
      "text/plain": [
       "<Figure size 640x480 with 1 Axes>"
      ]
     },
     "metadata": {},
     "output_type": "display_data"
    }
   ],
   "source": [
    "df.plot.line(x='Date', y='Inflation_MoM')"
   ]
  },
  {
   "cell_type": "markdown",
   "metadata": {},
   "source": [
    "Inflation YoY Fluctuations Diagram"
   ]
  },
  {
   "cell_type": "code",
   "execution_count": 35,
   "metadata": {},
   "outputs": [
    {
     "data": {
      "text/plain": [
       "<AxesSubplot:xlabel='Date'>"
      ]
     },
     "execution_count": 35,
     "metadata": {},
     "output_type": "execute_result"
    },
    {
     "data": {
      "image/png": "[encoded data removed]",
      "text/plain": [
       "<Figure size 640x480 with 1 Axes>"
      ]
     },
     "metadata": {},
     "output_type": "display_data"
    }
   ],
   "source": [
    "df.plot.line(x='Date', y='Inflation_YoY')"
   ]
  },
  {
   "cell_type": "markdown",
   "metadata": {},
   "source": [
    "Inflations rate Fluctuations Diagram"
   ]
  },
  {
   "cell_type": "code",
   "execution_count": 36,
   "metadata": {},
   "outputs": [
    {
     "data": {
      "text/plain": [
       "<AxesSubplot:xlabel='Date'>"
      ]
     },
     "execution_count": 36,
     "metadata": {},
     "output_type": "execute_result"
    },
    {
     "data": {
      "image/png": "[encoded data removed]",
      "text/plain": [
       "<Figure size 640x480 with 1 Axes>"
      ]
     },
     "metadata": {},
     "output_type": "display_data"
    }
   ],
   "source": [
    "df.plot.line(x='Date', y=['Inflation_MoM', 'Inflation_YoY'])"
   ]
  },
  {
   "cell_type": "markdown",
   "metadata": {},
   "source": [
    "> Based on the Diagram, we can conclude that the highest Inflation rate MoM and YoY was in 2022-09-30"
   ]
  }
 ],
 "metadata": {
  "kernelspec": {
   "display_name": "Python 3 (ipykernel)",
   "language": "python",
   "name": "python3"
  },
  "language_info": {
   "codemirror_mode": {
    "name": "ipython",
    "version": 3
   },
   "file_extension": ".py",
   "mimetype": "text/x-python",
   "name": "python",
   "nbconvert_exporter": "python",
   "pygments_lexer": "ipython3",
   "version": "3.9.18"
  }
 },
 "nbformat": 4,
 "nbformat_minor": 2
}
